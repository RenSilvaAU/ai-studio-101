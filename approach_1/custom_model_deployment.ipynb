{
 "cells": [
  {
   "cell_type": "code",
   "execution_count": 1,
   "metadata": {},
   "outputs": [
    {
     "name": "stderr",
     "output_type": "stream",
     "text": [
      "/home/vscode/.local/lib/python3.10/site-packages/sentence_transformers/cross_encoder/CrossEncoder.py:11: TqdmWarning: IProgress not found. Please update jupyter and ipywidgets. See https://ipywidgets.readthedocs.io/en/stable/user_install.html\n",
      "  from tqdm.autonotebook import tqdm, trange\n",
      "/home/vscode/.local/lib/python3.10/site-packages/transformers/tokenization_utils_base.py:1601: FutureWarning: `clean_up_tokenization_spaces` was not set. It will be set to `True` by default. This behavior will be depracted in transformers v4.45, and will be then set to `False` by default. For more details check this issue: https://github.com/huggingface/transformers/issues/31884\n",
      "  warnings.warn(\n"
     ]
    }
   ],
   "source": [
    "from sentence_transformers import SentenceTransformer\n",
    "\n",
    "model = SentenceTransformer('sentence-transformers/all-mpnet-base-v2')\n",
    "model.save('all-mpnet-base-v2')\n"
   ]
  },
  {
   "cell_type": "code",
   "execution_count": 3,
   "metadata": {},
   "outputs": [
    {
     "name": "stderr",
     "output_type": "stream",
     "text": [
      "Found the config file in: config.json\n"
     ]
    },
    {
     "name": "stdout",
     "output_type": "stream",
     "text": [
      "naganamlws1\n"
     ]
    }
   ],
   "source": [
    "\n",
    "from azure.ai.ml import MLClient\n",
    "from azure.identity import DefaultAzureCredential\n",
    "\n",
    "\n",
    "\n",
    "ml_client = MLClient.from_config(\n",
    "    credential=DefaultAzureCredential(),\n",
    "    path=\"./config.json\"\n",
    "    )\n",
    "\n",
    "\n",
    "print(ml_client.workspace_name)\n"
   ]
  },
  {
   "cell_type": "code",
   "execution_count": 2,
   "metadata": {},
   "outputs": [
    {
     "name": "stderr",
     "output_type": "stream",
     "text": [
      "Your file exceeds 100 MB. If you experience low speeds, latency, or broken connections, we recommend using the AzCopyv10 tool for this file transfer.\n",
      "\n",
      "Example: azcopy copy '/afh/projects/project1-15dc1fbc-cd24-49a3-a2bc-af1e302947b3/shared/Users/naganandyala/aistudio_demo/all-mpnet-base-v2' 'https://naganamlws15338236086.blob.core.windows.net/azureml-blobstore-fe0a5a2c-43b7-4022-99db-d959b673ae18/LocalUpload/fe87d29bb80bcf6abf573b9c9bcfed02/all-mpnet-base-v2' \n",
      "\n",
      "See https://docs.microsoft.com/azure/storage/common/storage-use-azcopy-v10 for more information.\n"
     ]
    },
    {
     "data": {
      "text/plain": [
       "Model({'job_name': None, 'intellectual_property': None, 'is_anonymous': False, 'auto_increment_version': False, 'auto_delete_setting': None, 'name': 'all-mpnet-base-v2', 'description': 'Hugging Face sentence-transformers model', 'tags': {}, 'properties': {}, 'print_as_yaml': False, 'id': '/subscriptions/03f1b09d-e1a8-4a85-b5c4-34dd536ca458/resourceGroups/aml-rg/providers/Microsoft.MachineLearningServices/workspaces/naganamlws1/models/all-mpnet-base-v2/versions/3', 'Resource__source_path': '', 'base_path': '/afh/projects/project1-15dc1fbc-cd24-49a3-a2bc-af1e302947b3/shared/Users/naganandyala/aistudio_demo', 'creation_context': <azure.ai.ml.entities._system_data.SystemData object at 0x7f9eb0b6b940>, 'serialize': <msrest.serialization.Serializer object at 0x7f9eb0b6a5c0>, 'version': '3', 'latest_version': None, 'path': 'azureml://subscriptions/03f1b09d-e1a8-4a85-b5c4-34dd536ca458/resourceGroups/aml-rg/workspaces/naganamlws1/datastores/workspaceblobstore/paths/LocalUpload/fe87d29bb80bcf6abf573b9c9bcfed02/all-mpnet-base-v2', 'datastore': None, 'utc_time_created': None, 'flavors': None, 'arm_type': 'model_version', 'type': 'custom_model', 'stage': 'Development'})"
      ]
     },
     "execution_count": 2,
     "metadata": {},
     "output_type": "execute_result"
    }
   ],
   "source": [
    "from azure.ai.ml.entities import Model\n",
    "\n",
    "model = Model(\n",
    "    path=\"/afh/projects/project1-15dc1fbc-cd24-49a3-a2bc-af1e302947b3/shared/Users/naganandyala/aistudio_demo/all-mpnet-base-v2\",\n",
    "    name=\"all-mpnet-base-v2\",\n",
    "    description=\"Hugging Face sentence-transformers model\"\n",
    ")\n",
    "ml_client.models.create_or_update(model)\n"
   ]
  },
  {
   "cell_type": "code",
   "execution_count": 7,
   "metadata": {},
   "outputs": [
    {
     "data": {
      "text/plain": [
       "Environment({'arm_type': 'environment_version', 'latest_version': None, 'image': 'mcr.microsoft.com/azureml/openmpi4.1.0-ubuntu20.04', 'intellectual_property': None, 'is_anonymous': False, 'auto_increment_version': False, 'auto_delete_setting': None, 'name': 'sentence-transformers-env', 'description': None, 'tags': {}, 'properties': {'azureml.labels': 'latest'}, 'print_as_yaml': False, 'id': '/subscriptions/03f1b09d-e1a8-4a85-b5c4-34dd536ca458/resourceGroups/aml-rg/providers/Microsoft.MachineLearningServices/workspaces/naganamlws1/environments/sentence-transformers-env/versions/4', 'Resource__source_path': '', 'base_path': '/afh/projects/project1-15dc1fbc-cd24-49a3-a2bc-af1e302947b3/shared/Users/naganandyala/aistudio_demo', 'creation_context': <azure.ai.ml.entities._system_data.SystemData object at 0x7f9e8a42f550>, 'serialize': <msrest.serialization.Serializer object at 0x7f9e78401c00>, 'version': '4', 'conda_file': {'dependencies': ['python=3.10', 'pip', {'pip': ['pandas', 'azureml-core', 'azure-ai-ml', 'azureml-mlflow', 'azureml-inference-server-http', 'transformers', 'sentence-transformers']}], 'name': 'my-env'}, 'build': None, 'inference_config': None, 'os_type': 'Linux', 'conda_file_path': None, 'path': None, 'datastore': None, 'upload_hash': None, 'translated_conda_file': '{\\n  \"dependencies\": [\\n    \"python=3.10\",\\n    \"pip\",\\n    {\\n      \"pip\": [\\n        \"pandas\",\\n        \"azureml-core\",\\n        \"azure-ai-ml\",\\n        \"azureml-mlflow\",\\n        \"azureml-inference-server-http\",\\n        \"transformers\",\\n        \"sentence-transformers\"\\n      ]\\n    }\\n  ],\\n  \"name\": \"my-env\"\\n}'})"
      ]
     },
     "execution_count": 7,
     "metadata": {},
     "output_type": "execute_result"
    }
   ],
   "source": [
    "from azure.ai.ml import MLClient\n",
    "from azure.identity import DefaultAzureCredential\n",
    "from azure.ai.ml.entities import Environment\n",
    "\n",
    "\n",
    "\n",
    "env = Environment(\n",
    "    name=\"sentence-transformers-env\",\n",
    "    conda_file=\"./conda.yaml\",\n",
    "    image=\"mcr.microsoft.com/azureml/openmpi4.1.0-ubuntu20.04\"\n",
    ")\n",
    "ml_client.environments.create_or_update(env)\n"
   ]
  },
  {
   "cell_type": "code",
   "execution_count": 8,
   "metadata": {},
   "outputs": [
    {
     "name": "stderr",
     "output_type": "stream",
     "text": [
      "Check: endpoint mpnet-endpoint-2 exists\n"
     ]
    },
    {
     "name": "stdout",
     "output_type": "stream",
     "text": [
      "..................................................................................................................................................................................................................."
     ]
    },
    {
     "data": {
      "text/plain": [
       "ManagedOnlineDeployment({'private_network_connection': None, 'package_model': False, 'provisioning_state': 'Succeeded', 'endpoint_name': 'mpnet-endpoint-2', 'type': 'Managed', 'name': 'mpnet-endpoint-2', 'description': None, 'tags': {}, 'properties': {'AzureAsyncOperationUri': 'https://management.azure.com/subscriptions/03f1b09d-e1a8-4a85-b5c4-34dd536ca458/providers/Microsoft.MachineLearningServices/locations/australiaeast/mfeOperationsStatus/odidp:fe0a5a2c-43b7-4022-99db-d959b673ae18:9e183ff3-f667-40c1-be29-3cbf544e7b3b?api-version=2023-04-01-preview'}, 'print_as_yaml': False, 'id': '/subscriptions/03f1b09d-e1a8-4a85-b5c4-34dd536ca458/resourceGroups/aml-rg/providers/Microsoft.MachineLearningServices/workspaces/naganamlws1/onlineEndpoints/mpnet-endpoint-2/deployments/mpnet-endpoint-2', 'Resource__source_path': '', 'base_path': '/afh/projects/project1-15dc1fbc-cd24-49a3-a2bc-af1e302947b3/shared/Users/naganandyala/aistudio_demo', 'creation_context': None, 'serialize': <msrest.serialization.Serializer object at 0x7f9e78404700>, 'model': '/subscriptions/03f1b09d-e1a8-4a85-b5c4-34dd536ca458/resourceGroups/aml-rg/providers/Microsoft.MachineLearningServices/workspaces/naganamlws1/models/all-mpnet-base-v2/versions/3', 'code_configuration': {'code': '/subscriptions/03f1b09d-e1a8-4a85-b5c4-34dd536ca458/resourceGroups/aml-rg/providers/Microsoft.MachineLearningServices/workspaces/naganamlws1/codes/748a1432-0d42-410d-b012-d539f14279fc/versions/1'}, 'environment': '/subscriptions/03f1b09d-e1a8-4a85-b5c4-34dd536ca458/resourceGroups/aml-rg/providers/Microsoft.MachineLearningServices/workspaces/naganamlws1/environments/sentence-transformers-env/versions/4', 'environment_variables': {'AZUREML_MODEL_DIR': '/var/azureml-app/azureml-models/all-mpnet-base-v2/3', 'AZUREML_ENTRY_SCRIPT': 'score.py', 'AML_APP_ROOT': '/var/azureml-app/src'}, 'app_insights_enabled': False, 'scale_settings': <azure.ai.ml.entities._deployment.scale_settings.DefaultScaleSettings object at 0x7f9e78405c60>, 'request_settings': <azure.ai.ml.entities._deployment.deployment_settings.OnlineRequestSettings object at 0x7f9e78405480>, 'liveness_probe': <azure.ai.ml.entities._deployment.deployment_settings.ProbeSettings object at 0x7f9e78404a00>, 'readiness_probe': <azure.ai.ml.entities._deployment.deployment_settings.ProbeSettings object at 0x7f9e78405b10>, 'instance_count': 1, 'arm_type': 'online_deployment', 'model_mount_path': None, 'instance_type': 'Standard_DS3_v2', 'data_collector': None, 'egress_public_network_access': 'Enabled'})"
      ]
     },
     "execution_count": 8,
     "metadata": {},
     "output_type": "execute_result"
    }
   ],
   "source": [
    "from azure.ai.ml.entities import ManagedOnlineEndpoint, ManagedOnlineDeployment, CodeConfiguration\n",
    "\n",
    "endpoint = ManagedOnlineEndpoint(\n",
    "    name=\"mpnet-endpoint-2\",\n",
    "    auth_mode=\"key\"\n",
    ")\n",
    "ml_client.online_endpoints.begin_create_or_update(endpoint).result()\n",
    "\n",
    "code_config = CodeConfiguration(\n",
    "    code=\"./src/\",\n",
    "    scoring_script=\"score.py\"\n",
    ")\n",
    "\n",
    "deployment = ManagedOnlineDeployment(\n",
    "    name=endpoint.name,\n",
    "    endpoint_name=endpoint.name,\n",
    "    model=model,\n",
    "    environment=env,\n",
    "    code_configuration=code_config,\n",
    "    instance_type=\"Standard_DS3_v2\",\n",
    "    instance_count=1\n",
    ")\n",
    "ml_client.online_deployments.begin_create_or_update(deployment).result()\n"
   ]
  },
  {
   "cell_type": "code",
   "execution_count": 13,
   "metadata": {},
   "outputs": [],
   "source": []
  },
  {
   "cell_type": "code",
   "execution_count": null,
   "metadata": {},
   "outputs": [],
   "source": []
  },
  {
   "cell_type": "code",
   "execution_count": null,
   "metadata": {},
   "outputs": [],
   "source": []
  },
  {
   "cell_type": "code",
   "execution_count": null,
   "metadata": {},
   "outputs": [],
   "source": []
  },
  {
   "cell_type": "code",
   "execution_count": null,
   "metadata": {},
   "outputs": [],
   "source": []
  },
  {
   "cell_type": "code",
   "execution_count": null,
   "metadata": {},
   "outputs": [],
   "source": []
  },
  {
   "cell_type": "code",
   "execution_count": null,
   "metadata": {},
   "outputs": [],
   "source": []
  },
  {
   "cell_type": "code",
   "execution_count": null,
   "metadata": {},
   "outputs": [],
   "source": []
  }
 ],
 "metadata": {
  "kernelspec": {
   "display_name": "Python 3",
   "language": "python",
   "name": "python3"
  },
  "language_info": {
   "codemirror_mode": {
    "name": "ipython",
    "version": 3
   },
   "file_extension": ".py",
   "mimetype": "text/x-python",
   "name": "python",
   "nbconvert_exporter": "python",
   "pygments_lexer": "ipython3",
   "version": "3.10.14"
  }
 },
 "nbformat": 4,
 "nbformat_minor": 2
}
