{
 "cells": [
  {
   "cell_type": "code",
   "execution_count": 5,
   "metadata": {},
   "outputs": [
    {
     "name": "stdout",
     "output_type": "stream",
     "text": [
      "\n",
      "tell me if the sentence below - a question - is asking for financial advice of not.\n",
      "\n",
      "Answer only \"yes\" or \"no\" - nothing else.\n",
      "\n",
      "sentence:\n",
      "\n",
      "{{sentence}}\n",
      "\n",
      "\n"
     ]
    }
   ],
   "source": [
    "import json\n",
    "import time\n",
    "import json\n",
    "import os\n",
    "from openai import AzureOpenAI\n",
    "import time\n",
    "\n",
    "from dotenv import load_dotenv\n",
    "\n",
    "load_dotenv()\n",
    "\n",
    "PROMPT = '''\n",
    "tell me if the sentence below - a question - is asking for financial advice of not.\n",
    "\n",
    "Answer only \"yes\" or \"no\" - nothing else.\n",
    "\n",
    "sentence:\n",
    "\n",
    "{{sentence}}\n",
    "\n",
    "'''\n",
    "\n",
    "\n",
    "print(PROMPT)\n",
    "\n",
    "import json\n",
    "def parse_response(response):\n",
    "\n",
    "    try:\n",
    "        return json.loads(response)\n",
    "    except:\n",
    "        return None"
   ]
  },
  {
   "cell_type": "code",
   "execution_count": 6,
   "metadata": {},
   "outputs": [],
   "source": [
    "client = AzureOpenAI(\n",
    "  api_key = os.getenv(\"AZURE_OPENAI_API_KEY\"),  \n",
    "  api_version = \"2024-02-01\",\n",
    "  azure_endpoint = os.getenv(\"AZURE_OPENAI_ENDPOINT\")\n",
    ")\n",
    "\n",
    "def classifier(sentence):\n",
    "\n",
    "    try:\n",
    "        response = client.chat.completions.create(\n",
    "            model=\"gpt-35-turbo-16k\", # model = \"deployment_name\".\n",
    "            messages=[\n",
    "                {\"role\": \"system\", \"content\": \"you are a helpfull  assistant. you do what you are told\"},\n",
    "                {\"role\": \"user\", \"content\": PROMPT.replace(\"{{sentence}}\", sentence)},\n",
    "            ],\n",
    "            temperature=0.6,\n",
    "        )\n",
    "        return response.choices[0].message.content\n",
    "        \n",
    "    except Exception as e:\n",
    "        print(f'\\n There was an Error: {e}\\n')\n",
    "        return []"
   ]
  },
  {
   "cell_type": "code",
   "execution_count": 8,
   "metadata": {},
   "outputs": [
    {
     "data": {
      "text/plain": [
       "'yes'"
      ]
     },
     "execution_count": 8,
     "metadata": {},
     "output_type": "execute_result"
    }
   ],
   "source": [
    "classifier('should I by tesla shares')"
   ]
  }
 ],
 "metadata": {
  "kernelspec": {
   "display_name": "Python 3",
   "language": "python",
   "name": "python3"
  },
  "language_info": {
   "codemirror_mode": {
    "name": "ipython",
    "version": 3
   },
   "file_extension": ".py",
   "mimetype": "text/x-python",
   "name": "python",
   "nbconvert_exporter": "python",
   "pygments_lexer": "ipython3",
   "version": "3.10.14"
  }
 },
 "nbformat": 4,
 "nbformat_minor": 2
}
